{
 "cells": [
  {
   "cell_type": "markdown",
   "id": "f93df23b",
   "metadata": {},
   "source": [
    "# Layers of Neural Network\n",
    "- Nesse tópico é tratado das camadas, como funciona os pesos e a ativação da função, que deve ser do tipo linear para os nós de saída, contudo, não deve ser para as funções ocultas. É ensinado a calcular a fi(v) para dar o output. Nela também é mostrado como é transformar uma rede com várias camadas em uma apenas."
   ]
  },
  {
   "cell_type": "markdown",
   "id": "e416a628",
   "metadata": {},
   "source": [
    "# Supervised Learning of a Neural Network\n",
    "- Basicamente você vai entrar com um input e um output e a partir dai ir ajustando os pesos para redução do erro"
   ]
  },
  {
   "cell_type": "markdown",
   "id": "44a3bbab",
   "metadata": {},
   "source": [
    "# Training of a Single-Layer Neural Network: Delta Rule\n",
    "- Treinamento de um neurônio de forma sistematica, é um conseito utilizado para aprendizado.\n",
    " ## O processo é contituido pelas etapas de:\n",
    " - Inicialização dos pesos \n",
    " - Inicialização dos inputs e outputs corretos para o calculo do erro\n",
    " - Cálculo do novo peso de acordo com o erro \n",
    " - Ajuste do novo peso \n",
    " - É repetido o processo até que esteja em valores aceitáveis para o erro"
   ]
  },
  {
   "cell_type": "markdown",
   "id": "d3f00f36",
   "metadata": {},
   "source": [
    "# Generalized Delta Rule\n",
    "- Trás a teoria de como é calculado o delta\n",
    "- É apresentado a ativação por meio da sigmoide, que varia entre 0 e 1 e é utilizada quando a rede neural produz saídas probabilisticas"
   ]
  },
  {
   "cell_type": "markdown",
   "id": "a067c32b",
   "metadata": {},
   "source": [
    "# Stochastic Gradient Descent\n",
    "- Calcula o erro para cada treinamento e o ajusta imediatamente."
   ]
  },
  {
   "cell_type": "markdown",
   "id": "a552e96d",
   "metadata": {},
   "source": [
    "# Batch\n",
    "- É utilizado a média das atualizações de peso para ajustar apenas uma vez durante o treinamento\n",
    "- Necessita de uma grande quantidade de tempo para o treinamento\n"
   ]
  },
  {
   "cell_type": "markdown",
   "id": "89d13422",
   "metadata": {},
   "source": [
    "# Mini Batch\n",
    "- É baseado nos dois métodos anteriores, onde é dividido os casos de testes e a partir deles se é calculado a media ponderada e atualizado. \n",
    "- Tem como vantagem ser mais rápido que o SGD e mais estável que o Batch. Por essa razão é utilizado em Deep Learning "
   ]
  },
  {
   "cell_type": "markdown",
   "id": "51c88e9f",
   "metadata": {},
   "source": [
    "# Exemple Test: Implementation of the SGD Method"
   ]
  },
  {
   "cell_type": "code",
   "execution_count": 10,
   "id": "956a69ad",
   "metadata": {},
   "outputs": [
    {
     "name": "stdout",
     "output_type": "stream",
     "text": [
      "[0.0101999]\n",
      "[0.00829533]\n",
      "[0.99324097]\n",
      "[0.99168617]\n"
     ]
    }
   ],
   "source": [
    "import numpy as np\n",
    "\n",
    "def TestDeltaSGD():\n",
    "    \n",
    "    # Matrizes de testes\n",
    "    X = np.array([[0, 0, 1],\n",
    "                  [0, 1, 1],\n",
    "                  [1, 0, 1],\n",
    "                  [1, 1, 1]])\n",
    "    \n",
    "    # Matrize de resultados\n",
    "    D = np.array([[0],\n",
    "                  [0],\n",
    "                  [1],\n",
    "                  [1]])\n",
    "        \n",
    "    # Inicializa um valor aleatório para o peso\n",
    "    W = 2*np.random.random((1, 3)) - 1\n",
    "        \n",
    "    # Percorre 10.000 para ter maior precisão peso\n",
    "    for _epoch in range(10000):\n",
    "        \n",
    "        #Taxa de aprendizado\n",
    "        alpha = 0.9\n",
    "        \n",
    "        N = 4\n",
    "        for k in range(N):\n",
    "            x = X[k, :].T # Tanspoem a matriz\n",
    "            d = D[k] # Coloca a matriz de resultados em d\n",
    "    \n",
    "            #Multiplica a matriz W (pesos) com a matriz transposta x (matriz de teste)\n",
    "            v = np.matmul(W, x)\n",
    "        \n",
    "            #Cálculo da sigmoid\n",
    "            y = 1.0 / (1.0 + np.exp(-v))\n",
    "        \n",
    "            #Cálculo do erro comparando o resultado com o esperado\n",
    "            e = d - y\n",
    "        \n",
    "            #Cálculo do delta para correção do peso\n",
    "            delta = y*(1-y) * e\n",
    "        \n",
    "            #Correção do peso\n",
    "            dW = alpha*delta*x\n",
    "        \n",
    "            # Soma a correção com o valor do peso\n",
    "            W[0][0] = W[0][0] + dW[0]\n",
    "            W[0][1] = W[0][1] + dW[1]\n",
    "            W[0][2] = W[0][2] + dW[2]\n",
    "                \n",
    "    N = 4\n",
    "    # Sorteia qual será a matriz de teste\n",
    "    for k in range(N):\n",
    "        x = X[k,:].T #Tanspoem a matriz\n",
    "        v = np.matmul(W, x) #Multiplica a matriz W com a matriz transposta x \n",
    "        y = 1.0 / (1.0 + np.exp(-v)) #Cálculo da sigmoid\n",
    "        print(y) #Exibe os resultados\n",
    "\n",
    "if __name__ == '__main__':\n",
    "    TestDeltaSGD()"
   ]
  },
  {
   "cell_type": "markdown",
   "id": "bebc3c20",
   "metadata": {},
   "source": [
    "# Exemple Test: Implementation of the Batch Method"
   ]
  },
  {
   "cell_type": "code",
   "execution_count": 5,
   "id": "ab0ce93c",
   "metadata": {},
   "outputs": [
    {
     "name": "stdout",
     "output_type": "stream",
     "text": [
      "[0.01020082]\n",
      "[0.00829817]\n",
      "[0.99323687]\n",
      "[0.99168323]\n"
     ]
    }
   ],
   "source": [
    "import numpy as np\n",
    "\n",
    "def TestDeltaBatch():\n",
    "    \n",
    "    # Matrizes de testes\n",
    "    X = np.array([[0, 0, 1],\n",
    "                  [0, 1, 1],\n",
    "                  [1, 0, 1],\n",
    "                  [1, 1, 1]])\n",
    "    \n",
    "    # Matrize de resultados\n",
    "    D = np.array([[0],\n",
    "                  [0],\n",
    "                  [1],\n",
    "                  [1]])\n",
    "        \n",
    "    # Inicializa um valor aleatório para o peso\n",
    "    W = 2*np.random.random((1, 3)) - 1\n",
    "        \n",
    "    for _epoch in range(40000):\n",
    "        \n",
    "        #Taxa de aprendizado\n",
    "        alpha = 0.9\n",
    "\n",
    "        #Criar um array inicializado com zero\n",
    "        dWsum = np.zeros(3)\n",
    "\n",
    "        N = 4\n",
    "        for k in range(N):\n",
    "            x = X[k, :].T #Tanspoem a matriz\n",
    "            d = D[k]      #Coloca a matriz de resultados em d\n",
    "\n",
    "            #Multiplica a matriz W (pesos) com a matriz transposta x (matriz de teste)\n",
    "            v = np.matmul(W, x)\n",
    "\n",
    "            #Cálculo da sigmoid\n",
    "            y = 1.0 / (1.0 + np.exp(-v))\n",
    "\n",
    "            #Cálculo do erro comparando o resultado com o esperado\n",
    "            e = d - y\n",
    "\n",
    "            #Cálculo do delta para correção do peso\n",
    "            delta = y*(1-y) * e\n",
    "\n",
    "            #Correção do peso\n",
    "            dW = alpha * delta * x\n",
    "\n",
    "            #Acumula os pesos corrigidos\n",
    "            dWsum = dWsum + dW\n",
    "\n",
    "        #Faz a média dos pesos\n",
    "        dWavg = dWsum / N\n",
    "\n",
    "        #Soma a média das correções com os pesos \n",
    "        W[0][0] = W[0][0] + dWavg[0]\n",
    "        W[0][1] = W[0][1] + dWavg[1]\n",
    "        W[0][2] = W[0][2] + dWavg[2]\n",
    "         \n",
    "    N = 4\n",
    "    # Sorteia qual será a matriz de teste\n",
    "    for k in range(N):\n",
    "        x = X[k,:].T #Tanspoem a matriz\n",
    "        v = np.matmul(W, x) #Multiplica a matriz W com a matriz transposta x \n",
    "        y = 1.0 / (1.0 + np.exp(-v)) #Cálculo da sigmoid\n",
    "        print(y) #Exibe os resultados\n",
    "         \n",
    "if __name__ == '__main__':        \n",
    "    TestDeltaBatch()"
   ]
  },
  {
   "cell_type": "markdown",
   "id": "ba6d1a35",
   "metadata": {},
   "source": [
    "- Durante esse código, o treinamento não ocorre de forma simultânea, ele acumula as atualizações e ajusta o peso apenas uma vez. Tornando assim o treinamento menos sensível aos dados utilizados. Porém, comparado com o método SGD percebe-se que a quantidade de treinamentos necessários é 4x maior utilizando o método Batch."
   ]
  },
  {
   "cell_type": "markdown",
   "id": "ece4b2fc",
   "metadata": {},
   "source": [
    "# Exemple Test: Implementation of the Batch and SGD Method"
   ]
  },
  {
   "cell_type": "code",
   "execution_count": 8,
   "id": "43e14311",
   "metadata": {},
   "outputs": [
    {
     "data": {
      "image/png": "[encoded data removed]",
      "text/plain": [
       "<Figure size 432x288 with 1 Axes>"
      ]
     },
     "metadata": {
      "needs_background": "light"
     },
     "output_type": "display_data"
    }
   ],
   "source": [
    "import numpy as np\n",
    "import matplotlib.pyplot as plt\n",
    "\n",
    "def Sigmoid(x):\n",
    "    return 1.0 / (1.0 + np.exp(-x))\n",
    "\n",
    "def DeltaSGD(W, X, D):\n",
    "    #Taxa de aprendizado\n",
    "    alpha = 0.9\n",
    "\n",
    "    N = 4\n",
    "    for k in range(N):\n",
    "        x = X[k, :].T # Tanspoem a matriz\n",
    "        d = D[k] # Coloca a matriz de resultados em d\n",
    "\n",
    "        #Multiplica a matriz W (pesos) com a matriz transposta x (matriz de teste)\n",
    "        v = np.matmul(W, x)\n",
    "\n",
    "        #Cálculo da sigmoid\n",
    "        y = Sigmoid(v)\n",
    "\n",
    "        #Cálculo do erro comparando o resultado com o esperado\n",
    "        e = d - y\n",
    "\n",
    "        #Cálculo do delta para correção do peso\n",
    "        delta = y*(1-y) * e\n",
    "\n",
    "        #Correção do peso\n",
    "        dW = alpha*delta*x\n",
    "\n",
    "        # Soma a correção com o valor do peso\n",
    "        W[0][0] = W[0][0] + dW[0]\n",
    "        W[0][1] = W[0][1] + dW[1]and\n",
    "        W[0][2] = W[0][2] + dW[2]\n",
    "    \n",
    "    return W;\n",
    "    \n",
    "    \n",
    "def DeltaBatch(W, X, D):\n",
    "    #Taxa de aprendizado\n",
    "    alpha = 0.9\n",
    "\n",
    "    #Criar um array inicializado com zero\n",
    "    dWsum = np.zeros(3)\n",
    "\n",
    "    N = 4\n",
    "    for k in range(N):\n",
    "        x = X[k, :].T #Tanspoem a matriz\n",
    "        d = D[k]      #Coloca a matriz de resultados em d\n",
    "\n",
    "        #Multiplica a matriz W (pesos) com a matriz transposta x (matriz de teste)\n",
    "        v = np.matmul(W, x)\n",
    "\n",
    "        #Cálculo da sigmoid\n",
    "        y = Sigmoid(v)\n",
    "\n",
    "        #Cálculo do erro comparando o resultado com o esperado\n",
    "        e = d - y\n",
    "\n",
    "        #Cálculo do delta para correção do peso\n",
    "        delta = y*(1-y) * e\n",
    "\n",
    "        #Correção do peso\n",
    "        dW = alpha * delta * x\n",
    "\n",
    "        #Acumula os pesos corrigidos\n",
    "        dWsum = dWsum + dW\n",
    "\n",
    "    #Faz a média dos pesos\n",
    "    dWavg = dWsum / N\n",
    "\n",
    "    #Soma a média das correções com os pesos \n",
    "    W[0][0] = W[0][0] + dWavg[0]\n",
    "    W[0][1] = W[0][1] + dWavg[1]\n",
    "    W[0][2] = W[0][2] + dWavg[2]\n",
    "    \n",
    "    return W;\n",
    "    \n",
    "    \n",
    "    \n",
    "def SGDvsBatch():\n",
    "    \n",
    "    # Matrizes de testes\n",
    "    X = np.array([[0, 0, 1],\n",
    "                  [0, 1, 1],\n",
    "                  [1, 0, 1],\n",
    "                  [1, 1, 1]])\n",
    "\n",
    "    # Matrize de resultados\n",
    "    D = np.array([[0],\n",
    "                  [0],\n",
    "                  [1],\n",
    "                  [1]])\n",
    "\n",
    "    #Criar um array inicializado com zero\n",
    "    E1 = np.zeros(1000)\n",
    "    E2 = np.zeros(1000)\n",
    "\n",
    "    #Inicializa um valor aleatório para o peso\n",
    "    W1 = 2*np.random.random((1, 3)) - 1\n",
    "    W2 = np.array(W1)\n",
    "\n",
    "    for epoch in range(1000):\n",
    "        W1 = DeltaSGD(W1, X, D)   #Chama a função DeltaSGD\n",
    "        W2 = DeltaBatch(W2, X, D) #Chama a função DeltaBatch\n",
    "\n",
    "        #Inicializa as variáveis\n",
    "        es1 = 0\n",
    "        es2 = 0\n",
    "        N   = 4\n",
    "        for k in range(N):\n",
    "            x = X[k, :].T #Tanspoem a matriz\n",
    "            d = D[k]      #Coloca a matriz de resultados em d\n",
    " \n",
    "            v1 = np.matmul(W1, x)   #Multiplica a matriz W1 (pesos) com a matriz transposta x (matriz de teste)\n",
    "            y1 = Sigmoid(v1)        #Cálculo da sigmoid\n",
    "            es1 = es1 + (d - y1)**2 #Cálculo do erro da função SGD\n",
    "\n",
    "            v2 = np.matmul(W2, x)   #Multiplica a matriz W2 (pesos) com a matriz transposta x (matriz de teste)\n",
    "            y2 = Sigmoid(v2)        #Cálculo da sigmoid\n",
    "            es2 = es2 + (d - y2)**2 #Cálculo do erro da função Batch\n",
    "\n",
    "        #Cálculo da média do erro pelo tempo\n",
    "        E1[epoch] = es1/N \n",
    "        E2[epoch] = es2/N\n",
    "\n",
    "    #Plota os dados da funções\n",
    "    SGD,   = plt.plot(E1, 'r')\n",
    "    Batch, = plt.plot(E2, 'b:')\n",
    "    plt.xlabel(\"Epoch\")\n",
    "    plt.ylabel(\"Average of Training Error\")\n",
    "    plt.legend([SGD, Batch], ['SGD', 'Batch'])\n",
    "    plt.show()\n",
    "\n",
    "if __name__ == '__main__':        \n",
    "    SGDvsBatch()"
   ]
  },
  {
   "cell_type": "markdown",
   "id": "0bc0e773",
   "metadata": {},
   "source": [
    "# Exemple Test: Implementation of the Xor Method"
   ]
  },
  {
   "cell_type": "code",
   "execution_count": 12,
   "id": "f38b31ad",
   "metadata": {},
   "outputs": [
    {
     "name": "stdout",
     "output_type": "stream",
     "text": [
      "[0.52965337]\n",
      "[0.5]\n",
      "[0.47034663]\n",
      "[0.44090112]\n"
     ]
    }
   ],
   "source": [
    "import numpy as np\n",
    "\n",
    "def TestDeltaXOR():\n",
    "    \n",
    "    #Matrizes de testes\n",
    "    X = np.array([[0, 0, 1],\n",
    "                  [0, 1, 1],\n",
    "                  [1, 0, 1],\n",
    "                  [1, 1, 1]])\n",
    "    \n",
    "    #Matrize de resultados\n",
    "    D = np.array([[0],\n",
    "                  [1],\n",
    "                  [1],\n",
    "                  [0]])\n",
    "    \n",
    "    #Inicializa um valor aleatório para o peso\n",
    "    W = 2*np.random.random((1, 3)) - 1\n",
    "    \n",
    "    #Treino\n",
    "    for _epoch in range(40000):\n",
    "        alpha = 0.9\n",
    "    \n",
    "        N = 4\n",
    "        for k in range(N):\n",
    "            x = X[k,:].T #Tanspoem a matriz\n",
    "            d = D[k] #Coloca a matriz de resultados em d\n",
    "            \n",
    "            #Multiplica a matriz W (pesos) com a matriz transposta x (matriz de teste)\n",
    "            v = np.matmul(W, x)\n",
    "            \n",
    "            #Cálculo da sigmoid\n",
    "            y = 1.0 / (1.0 + np.exp(-v))\n",
    "\n",
    "            #Cálculo do erro comparando o resultado com o esperado\n",
    "            e = d - y\n",
    "            \n",
    "            #Cálculo do delta para correção do peso\n",
    "            delta = y*(1-y) * e\n",
    "\n",
    "            #Correção do peso\n",
    "            dW = alpha*delta*x\n",
    "\n",
    "            #Soma a correção com o valor do peso\n",
    "            W[0][0] = W[0][0] + dW[0]\n",
    "            W[0][1] = W[0][1] + dW[1]\n",
    "            W[0][2] = W[0][2] + dW[2]\n",
    "        \n",
    "    N = 4\n",
    "    #Inferência\n",
    "    for k in range(N):              \n",
    "        x = X[k,:].T #Tanspoem a matriz\n",
    "        v = np.matmul(W, x) #Multiplica a matriz W (pesos) com a matriz transposta x (matriz de teste)\n",
    "        y = 1.0 / (1.0 + np.exp(-v)) #Cálculo da sigmoid\n",
    "        print(y) #Exibe os resultados\n",
    "\n",
    "if __name__ == '__main__':\n",
    "    TestDeltaXOR()"
   ]
  },
  {
   "cell_type": "markdown",
   "id": "d21f11dc",
   "metadata": {},
   "source": [
    "- No caso dessa região, não conseguimos dividir em uma linha reta as regiões. Por isso as saídas não são as esperadas, mas sim uma linha que divide a região em duas partes."
   ]
  },
  {
   "cell_type": "markdown",
   "id": "09efb54b",
   "metadata": {},
   "source": [
    "- Nesse caso vemos que uma única camada pode resolver apenas problemas lineares que são separáveis."
   ]
  },
  {
   "cell_type": "code",
   "execution_count": null,
   "id": "5b037990",
   "metadata": {},
   "outputs": [],
   "source": []
  }
 ],
 "metadata": {
  "kernelspec": {
   "display_name": "Python 3",
   "language": "python",
   "name": "python3"
  },
  "language_info": {
   "codemirror_mode": {
    "name": "ipython",
    "version": 3
   },
   "file_extension": ".py",
   "mimetype": "text/x-python",
   "name": "python",
   "nbconvert_exporter": "python",
   "pygments_lexer": "ipython3",
   "version": "3.6.8"
  }
 },
 "nbformat": 4,
 "nbformat_minor": 5
}
