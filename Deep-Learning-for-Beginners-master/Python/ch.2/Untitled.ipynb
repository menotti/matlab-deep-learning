{
 "cells": [
  {
   "cell_type": "markdown",
   "metadata": {},
   "source": [
    "# Abordagem X\n",
    "Nesta abordagem...\n",
    "\n",
    "## Subtítulo\n",
    "Pode incluir código fonte para explicar\n",
    "```\n",
    "import numpy as np\n",
    "\n",
    "def Sigmoid(x):\n",
    "    return 1.0 / (1.0 + np.exp(-x))\n",
    "```\n",
    "Execução:"
   ]
  },
  {
   "cell_type": "code",
   "execution_count": 3,
   "metadata": {},
   "outputs": [
    {
     "name": "stdout",
     "output_type": "stream",
     "text": [
      "[0.010203]\n",
      "[0.00829348]\n",
      "[0.99324172]\n",
      "[0.99168269]\n"
     ]
    }
   ],
   "source": [
    "import numpy as np\n",
    "\n",
    "def Sigmoid(x):\n",
    "    return 1.0 / (1.0 + np.exp(-x))\n",
    "\n",
    "def DeltaBatch(W, X, D):\n",
    "    alpha = 0.9\n",
    "    dWsum = np.zeros(3)\n",
    "    \n",
    "    N = 4\n",
    "    for k in range(N):\n",
    "        x = X[k, :].T\n",
    "        d = D[k]\n",
    "        \n",
    "        v = np.matmul(W, x)\n",
    "        y = Sigmoid(v)\n",
    "        \n",
    "        e     = d - y\n",
    "        delta = y*(1-y) * e\n",
    "        dW = alpha * delta * x\n",
    "        \n",
    "        dWsum = dWsum + dW\n",
    "        \n",
    "    dWavg = dWsum / N\n",
    "    \n",
    "    W[0][0] = W[0][0] + dWavg[0]\n",
    "    W[0][1] = W[0][1] + dWavg[1]\n",
    "    W[0][2] = W[0][2] + dWavg[2]\n",
    "    \n",
    "    return W\n",
    "\n",
    "def TestDeltaBatch():\n",
    "    X = np.array([[0, 0, 1],\n",
    "                  [0, 1, 1],\n",
    "                  [1, 0, 1],\n",
    "                  [1, 1, 1]])\n",
    "    \n",
    "    D = np.array([[0],\n",
    "                  [0],\n",
    "                  [1],\n",
    "                  [1]])\n",
    "        \n",
    "    W = 2*np.random.random((1, 3)) - 1\n",
    "        \n",
    "    for _epoch in range(40000):\n",
    "        W = DeltaBatch(W, X, D)\n",
    "         \n",
    "    N = 4\n",
    "    for k in range(N):\n",
    "        x = X[k,:].T\n",
    "        v = np.matmul(W, x)\n",
    "        y = Sigmoid(v)\n",
    "        print(y)\n",
    "        \n",
    "TestDeltaBatch()"
   ]
  },
  {
   "cell_type": "code",
   "execution_count": null,
   "metadata": {},
   "outputs": [],
   "source": []
  }
 ],
 "metadata": {
  "kernelspec": {
   "display_name": "Python 3 (ipykernel)",
   "language": "python",
   "name": "python3"
  },
  "language_info": {
   "codemirror_mode": {
    "name": "ipython",
    "version": 3
   },
   "file_extension": ".py",
   "mimetype": "text/x-python",
   "name": "python",
   "nbconvert_exporter": "python",
   "pygments_lexer": "ipython3",
   "version": "3.9.7"
  }
 },
 "nbformat": 4,
 "nbformat_minor": 4
}
